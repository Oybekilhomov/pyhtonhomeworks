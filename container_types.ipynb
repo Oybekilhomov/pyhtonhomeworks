{
 "cells": [
  {
   "cell_type": "markdown",
   "id": "768864a4",
   "metadata": {},
   "source": [
    "#Container Types Intro"
   ]
  },
  {
   "cell_type": "code",
   "execution_count": null,
   "id": "66f2bd2e",
   "metadata": {},
   "outputs": [],
   "source": []
  },
  {
   "cell_type": "code",
   "execution_count": 45,
   "id": "57c7e9c0",
   "metadata": {},
   "outputs": [
    {
     "name": "stdout",
     "output_type": "stream",
     "text": [
      "hello world'\n"
     ]
    }
   ],
   "source": [
    "print(\"hello world'\")"
   ]
  },
  {
   "cell_type": "code",
   "execution_count": 46,
   "id": "961278e6",
   "metadata": {},
   "outputs": [
    {
     "data": {
      "text/plain": [
       "list"
      ]
     },
     "execution_count": 46,
     "metadata": {},
     "output_type": "execute_result"
    }
   ],
   "source": [
    "fruits = [\"ple\", \"banan\", \"cherry\"]\n",
    "type(fruits)"
   ]
  },
  {
   "cell_type": "code",
   "execution_count": 47,
   "id": "b4bf6fd7",
   "metadata": {},
   "outputs": [
    {
     "name": "stdout",
     "output_type": "stream",
     "text": [
      "[1, 2, 3]\n"
     ]
    },
    {
     "data": {
      "text/plain": [
       "list"
      ]
     },
     "execution_count": 47,
     "metadata": {},
     "output_type": "execute_result"
    }
   ],
   "source": [
    "numbers = [1,2,3]\n",
    "print(numbers)\n",
    "type(numbers)"
   ]
  },
  {
   "cell_type": "code",
   "execution_count": 48,
   "id": "b7bbcc23",
   "metadata": {},
   "outputs": [
    {
     "name": "stdout",
     "output_type": "stream",
     "text": [
      "['apple', 1, True]\n"
     ]
    }
   ],
   "source": [
    "mixed = [\"apple\", 1, True]\n",
    "print(mixed)"
   ]
  },
  {
   "cell_type": "code",
   "execution_count": 49,
   "id": "4a2ad4d3",
   "metadata": {},
   "outputs": [],
   "source": [
    "a =[2,3,4]\n",
    "b = a\n",
    "a.append(5)"
   ]
  },
  {
   "cell_type": "code",
   "execution_count": 50,
   "id": "c1ae3642",
   "metadata": {},
   "outputs": [
    {
     "name": "stdout",
     "output_type": "stream",
     "text": [
      "2719698676288\n",
      "2719716368384\n"
     ]
    }
   ],
   "source": [
    "a =[2,3,4]\n",
    "b = a.copy()\n",
    "\n",
    "print(id(a))\n",
    "print(id(b))\n",
    "\n"
   ]
  },
  {
   "cell_type": "code",
   "execution_count": 54,
   "id": "bc6fd1d6",
   "metadata": {},
   "outputs": [],
   "source": [
    "x = [\n",
    "    [1,2],\n",
    "    [3,4]\n",
    "    ]\n",
    "y = x.copy()"
   ]
  },
  {
   "cell_type": "code",
   "execution_count": null,
   "id": "4f579883",
   "metadata": {},
   "outputs": [
    {
     "data": {
      "text/plain": [
       "['melon', 'ananas', 'ananas,elon']"
      ]
     },
     "execution_count": 86,
     "metadata": {},
     "output_type": "execute_result"
    }
   ],
   "source": [
    "fruits = [\"melon\",'ananas', 'cherry']\n",
    "fruits.index(\"ananas\")\n",
    "fruits.pop()\n",
    "fruits.extend([\"ananas,elon\"])\n",
    "\n",
    "fruits\n"
   ]
  },
  {
   "cell_type": "code",
   "execution_count": null,
   "id": "b645cdb9",
   "metadata": {},
   "outputs": [],
   "source": [
    "person1 = ('John', 'Doe', 39)\n"
   ]
  },
  {
   "cell_type": "code",
   "execution_count": 88,
   "id": "52205008",
   "metadata": {},
   "outputs": [
    {
     "data": {
      "text/plain": [
       "'Just watch'"
      ]
     },
     "execution_count": 88,
     "metadata": {},
     "output_type": "execute_result"
    }
   ],
   "source": [
    "#Tuple unpacking\n",
    "\n",
    "id, title, costumer_id = (1, 'Just watch', 1)\n",
    "title"
   ]
  },
  {
   "cell_type": "markdown",
   "id": "977ec683",
   "metadata": {},
   "source": [
    "Dictionary\n"
   ]
  },
  {
   "cell_type": "code",
   "execution_count": null,
   "id": "680009a3",
   "metadata": {},
   "outputs": [
    {
     "data": {
      "text/plain": [
       "dict_values(['Jama', 'jama@gmail.com', 17])"
      ]
     },
     "execution_count": 92,
     "metadata": {},
     "output_type": "execute_result"
    }
   ],
   "source": [
    "person = {\n",
    "      'name': 'Jama',\n",
    "      'email': 'jama@gmail.com',\n",
    "      'age': 17\n",
    "}\n",
    "type(person)\n",
    "\n",
    "person.values()\n"
   ]
  },
  {
   "cell_type": "code",
   "execution_count": null,
   "id": "c043012d",
   "metadata": {},
   "outputs": [
    {
     "data": {
      "text/plain": [
       "['a', 'b', 'c', 'd', 'e']"
      ]
     },
     "execution_count": 2,
     "metadata": {},
     "output_type": "execute_result"
    }
   ],
   "source": [
    "a = ['a', 'b', \"c\", \"d\", \"e\",]\n",
    "list(set(a)) \n",
    "a\n"
   ]
  },
  {
   "cell_type": "code",
   "execution_count": 4,
   "id": "42fba1f9",
   "metadata": {},
   "outputs": [
    {
     "data": {
      "text/plain": [
       "{'a', 'b', 'c', 'd', 's'}"
      ]
     },
     "execution_count": 4,
     "metadata": {},
     "output_type": "execute_result"
    }
   ],
   "source": [
    "s1 = {'a', 'b', 'c'}\n",
    "s2 = {'d', 's', 'a'}\n",
    "\n",
    "s1.union(s2)"
   ]
  },
  {
   "cell_type": "code",
   "execution_count": 5,
   "id": "7e8ffe10",
   "metadata": {},
   "outputs": [
    {
     "data": {
      "text/plain": [
       "False"
      ]
     },
     "execution_count": 5,
     "metadata": {},
     "output_type": "execute_result"
    }
   ],
   "source": [
    "'Appple' in ['apple', 'banana', 'cherry']"
   ]
  },
  {
   "cell_type": "code",
   "execution_count": 16,
   "id": "030bea14",
   "metadata": {},
   "outputs": [
    {
     "name": "stdout",
     "output_type": "stream",
     "text": [
      "['jama', 'doni', 'asco']\n"
     ]
    },
    {
     "data": {
      "text/plain": [
       "['jama', 'doni', 'asco', 'doni', 'asco']"
      ]
     },
     "execution_count": 16,
     "metadata": {},
     "output_type": "execute_result"
    }
   ],
   "source": [
    "from collections import namedtuple\n",
    "#GB = (200, 100, 230)\n",
    "\n",
    "white = (255, 255, 255)\n",
    "black = (0,0,0)\n",
    "green = (0, 255,0)\n",
    "\n",
    "green[1]\n",
    "\n",
    "type(green)\n",
    "\n",
    "isinstance(green, tuple)\n",
    "\n",
    "costumers = ['jama', 'doni', 'asco', 'doni', 'asco']\n",
    "p1 = list(dict.fromkeys(costumers))\n",
    "print(p1)\n",
    "costumers"
   ]
  }
 ],
 "metadata": {
  "kernelspec": {
   "display_name": "Python 3",
   "language": "python",
   "name": "python3"
  },
  "language_info": {
   "codemirror_mode": {
    "name": "ipython",
    "version": 3
   },
   "file_extension": ".py",
   "mimetype": "text/x-python",
   "name": "python",
   "nbconvert_exporter": "python",
   "pygments_lexer": "ipython3",
   "version": "3.10.10"
  }
 },
 "nbformat": 4,
 "nbformat_minor": 5
}
